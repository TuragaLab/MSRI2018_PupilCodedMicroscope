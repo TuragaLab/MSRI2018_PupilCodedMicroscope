{
 "cells": [
  {
   "cell_type": "code",
   "execution_count": 1,
   "metadata": {},
   "outputs": [
    {
     "name": "stderr",
     "output_type": "stream",
     "text": [
      "/usr/local/lib/python3.5/dist-packages/h5py/__init__.py:36: FutureWarning: Conversion of the second argument of issubdtype from `float` to `np.floating` is deprecated. In future, it will be treated as `np.float64 == np.dtype(float).type`.\n",
      "  from ._conv import register_converters as _register_converters\n"
     ]
    }
   ],
   "source": [
    "import numpy as np\n",
    "import scipy\n",
    "import matplotlib.pyplot as plt\n",
    "%matplotlib inline\n",
    "# from numpy.fft import fft2, fftshift, ifftshift\n",
    "\n",
    "import tensorflow as tf\n",
    "\n",
    "from scipy.integrate import simps\n",
    "\n",
    "import sys\n",
    "if not 'seaborn' in sys.modules:\n",
    "    sys.path.append('/groups/turaga/home/turagas/research/')\n",
    "    sys.path.append('/groups/turaga/home/turagas/anaconda3/lib/python3.5/site-packages/')\n",
    "import seaborn as sns # Used only to set up plots\n",
    "sns.set_context(context = 'talk')\n",
    "# plt.style.use('dark_background')\n",
    "# plt.rcParams['figure.facecolor'] = '#272b30'\n",
    "plt.rcParams['image.cmap'] = 'viridis'"
   ]
  },
  {
   "cell_type": "code",
   "execution_count": 2,
   "metadata": {},
   "outputs": [],
   "source": [
    "# create Tensorflow session\n",
    "sess = tf.InteractiveSession()"
   ]
  },
  {
   "cell_type": "code",
   "execution_count": 43,
   "metadata": {},
   "outputs": [],
   "source": [
    "# Setup the simulation parameters\n",
    "wavelength = 0.68   # microns\n",
    "NA         = 0.7    # Numerical aperture of the objective\n",
    "nImmersion = 1.51   # Refractive index of the immersion oil\n",
    "pixelSize  = 0.1    # microns\n",
    "numPixels  = 2048   # Number of pixels in the camera; keep this even\n",
    "power      = 0.1    # Watts\n",
    "Z0         = 376.73 # Ohms; impedance of free space"
   ]
  },
  {
   "cell_type": "code",
   "execution_count": 4,
   "metadata": {},
   "outputs": [],
   "source": [
    "# Create the image plane coordinates\n",
    "x = np.linspace(-pixelSize * numPixels / 2, pixelSize * numPixels / 2, num = numPixels, endpoint = True)"
   ]
  },
  {
   "cell_type": "code",
   "execution_count": 5,
   "metadata": {},
   "outputs": [],
   "source": [
    "# Create the Fourier plane\n",
    "dx = x[1] - x[0]    # Sampling period, microns\n",
    "fS = 1 / dx         # Spatial sampling frequency, inverse microns\n",
    "df = fS / numPixels # Spacing between discrete frequency coordinates, inverse microns\n",
    "fx = np.arange(-fS / 2, fS / 2, step = df) # Spatial frequency, inverse microns\n",
    "kx, ky = np.meshgrid(fx,fx)"
   ]
  },
  {
   "cell_type": "code",
   "execution_count": 6,
   "metadata": {},
   "outputs": [],
   "source": [
    "# Create the pupil, which is defined by the numerical aperture\n",
    "fNA             = NA / wavelength # radius of the pupil, inverse microns\n",
    "pupilRadius     = fNA / df        # pixels\n",
    "pupilCenter     = numPixels / 2   # assumes numPixels is even\n",
    "W, H            = np.meshgrid(np.arange(0, numPixels), np.arange(0, numPixels)) # coordinates of the array indexes\n",
    "pupilMask       = 1.0*(np.sqrt((W - pupilCenter)**2 + (H - pupilCenter)**2) <= pupilRadius)"
   ]
  },
  {
   "cell_type": "code",
   "execution_count": 7,
   "metadata": {},
   "outputs": [
    {
     "name": "stdout",
     "output_type": "stream",
     "text": [
      "Normalization constant:\t\t0.0940 W\n",
      "User-defined power:\t\t0.1000 W\n",
      "Power now carried by field:\t0.1000 W\n"
     ]
    }
   ],
   "source": [
    "# Compute normalizing constant\n",
    "norm_factor = simps(simps(np.abs(pupilMask)**2, dx = df), dx = df) / Z0 # A^2\n",
    "print('Normalization constant:\\t\\t{:.4f} W'.format(np.sqrt(norm_factor)))\n",
    "\n",
    "# Renormalize the pupil values\n",
    "pupil = pupilMask * (1 + 0j)\n",
    "normedPupil = pupil * np.sqrt(power / norm_factor)\n",
    "\n",
    "new_power = simps(simps(np.abs(normedPupil)**2, dx = df), dx = df) / Z0\n",
    "print('User-defined power:\\t\\t{:.4f} W'.format(power))\n",
    "print('Power now carried by field:\\t{:.4f} W'.format(new_power))"
   ]
  },
  {
   "cell_type": "code",
   "execution_count": 8,
   "metadata": {},
   "outputs": [
    {
     "data": {
      "image/png": "[encoded data removed]",
      "text/plain": [
       "<Figure size 432x288 with 2 Axes>"
      ]
     },
     "metadata": {},
     "output_type": "display_data"
    },
    {
     "name": "stdout",
     "output_type": "stream",
     "text": [
      "Power in pupil plane: 0.1000 W\n"
     ]
    }
   ],
   "source": [
    "# Show the pupil\n",
    "ax = plt.imshow(np.abs(pupil), extent = [fx[0], fx[-1], fx[0], fx[-1]])\n",
    "plt.grid(False)\n",
    "cb = plt.colorbar(ax)\n",
    "cb.set_label('$P \\, ( f_x, f_y ) $')\n",
    "plt.xlabel('$f_x$, $\\mu m^{-1}$')\n",
    "plt.ylabel('$f_y$, $\\mu m^{-1}$')\n",
    "plt.show()\n",
    "\n",
    "# Compute the power\n",
    "power_pupil = simps(simps(np.abs(normedPupil)**2, dx = df), dx = df) / Z0\n",
    "print('Power in pupil plane: {:.4f} W'.format(power_pupil))"
   ]
  },
  {
   "cell_type": "code",
   "execution_count": 57,
   "metadata": {},
   "outputs": [],
   "source": [
    "# Defocus from -10 micron to + 10 micron\n",
    "defocusDistance = np.linspace(-15, 15, num=21)\n",
    "defocusKernel      = np.zeros((defocusDistance.size, numPixels, numPixels),dtype=np.complex64)\n",
    "defocusPSF      = np.zeros((defocusDistance.size, numPixels, numPixels),dtype=np.float64)\n",
    "\n",
    "for ctr, z in enumerate(defocusDistance):\n",
    "    # Add 0j to ensure that np.sqrt knows that its argument is complex\n",
    "    defocusPhaseAngle            = 1j * z / pixelSize * np.sqrt((2 * np.pi * nImmersion / wavelength)**2 - kx**2 - ky**2 + 0j)\n",
    "    defocusKernel[ctr,:,:]       = np.exp(defocusPhaseAngle)\n",
    "#     defocusKernel[ctr,:,:] = np.cos(defocusPhaseAngle) + 1j*np.sin(defocusPhaseAngle)\n",
    "    defocusPupil        = pupil * np.squeeze(defocusKernel[ctr,:,:])\n",
    "    defocusPSFA         = np.fft.fftshift(np.fft.fft2(np.fft.ifftshift(defocusPupil))) * df**2\n",
    "    defocusPSF[ctr,:,:] = np.real(defocusPSFA * np.conj(defocusPSFA))"
   ]
  },
  {
   "cell_type": "code",
   "execution_count": 58,
   "metadata": {},
   "outputs": [
    {
     "name": "stdout",
     "output_type": "stream",
     "text": [
      "0.02941026680811244\n"
     ]
    },
    {
     "data": {
      "image/png": "[encoded data removed]",
      "text/plain": [
       "<Figure size 1440x720 with 2 Axes>"
      ]
     },
     "metadata": {},
     "output_type": "display_data"
    }
   ],
   "source": [
    "fig, (ax0, ax1) = plt.subplots(nrows = 1, ncols = 2, figsize=(20,10))\n",
    "\n",
    "indx      = [10, 14] # indexes to defocus distances to plot\n",
    "\n",
    "# Find the maximum in the in-focus image for displaying PSF's on the correct intensity scale\n",
    "# maxIrradiance = np.max(psf_defocus_np)/Z0\n",
    "maxIrradiance = np.max(defocusPSF[10,:,:])/Z0\n",
    "print(maxIrradiance)\n",
    "\n",
    "lim=1.5\n",
    "\n",
    "ax=ax0\n",
    "# image = psf_defocus_np[indx[0], :, :] / Z0\n",
    "image = (defocusPSF[indx[0], :, :] / Z0)\n",
    "img = ax.imshow(image, interpolation='nearest', extent = [x[0], x[-1], x[0], x[-1]], vmin =0, vmax = maxIrradiance)\n",
    "# cb = plt.colorbar(img)\n",
    "ax.set_xlim((-lim, lim))\n",
    "ax.set_ylim((-lim, lim))\n",
    "ax.set_title('Defocus: {0:.2f} microns'.format(defocusDistance[indx[0]]))\n",
    "\n",
    "ax=ax1\n",
    "# image = psf_defocus_np[indx[1], :, :] / Z0\n",
    "image = (defocusPSF[indx[1], :, :] / Z0)\n",
    "img = ax.imshow(image, interpolation='nearest', extent = [x[0], x[-1], x[0], x[-1]], vmin =0, vmax = maxIrradiance)\n",
    "# cb = plt.colorbar(img)\n",
    "ax.set_xlim((-lim, lim))\n",
    "ax.set_ylim((-lim, lim))\n",
    "ax.set_title('Defocus: {0:.2f} microns'.format(defocusDistance[indx[1]]))\n",
    "\n",
    "# plt.tight_layout()\n",
    "plt.show()"
   ]
  },
  {
   "cell_type": "code",
   "execution_count": 59,
   "metadata": {},
   "outputs": [
    {
     "name": "stdout",
     "output_type": "stream",
     "text": [
      "0.02941026680811244\n"
     ]
    },
    {
     "data": {
      "image/png": "[encoded data removed]",
      "text/plain": [
       "<Figure size 1440x720 with 2 Axes>"
      ]
     },
     "metadata": {},
     "output_type": "display_data"
    }
   ],
   "source": [
    "fig, (ax0, ax1) = plt.subplots(nrows = 1, ncols = 2, figsize=(20,10))\n",
    "\n",
    "# Find the maximum in the in-focus image for displaying PSF's on the correct intensity scale\n",
    "# maxIrradiance = np.max(psf_defocus_np)/Z0\n",
    "maxIrradiance = np.max(defocusPSF[10,:,:])/Z0\n",
    "print(maxIrradiance)\n",
    "\n",
    "lim=1.5\n",
    "\n",
    "ax=ax0\n",
    "# image = psf_defocus_np[indx[0], :, :] / Z0\n",
    "image = np.sum(defocusPSF / Z0, axis=0)\n",
    "img = ax.imshow(image, interpolation='nearest', extent = [x[0], x[-1], x[0], x[-1]])#, vmin =0, vmax = maxIrradiance)\n",
    "# cb = plt.colorbar(img)\n",
    "ax.set_xlim((-lim, lim))\n",
    "ax.set_ylim((-lim, lim))\n",
    "# ax.set_title('Defocus: {0:.2f} microns'.format(defocusDistance[indx[0]]))\n",
    "\n",
    "ax=ax1\n",
    "# image = psf_defocus_np[indx[1], :, :] / Z0\n",
    "image = np.sum(defocusPSF / Z0, axis=2)\n",
    "img = ax.imshow(image, interpolation='nearest', extent = [x[0], x[-1], defocusDistance[0], defocusDistance[-1]])#, vmin =0, vmax = maxIrradiance)\n",
    "# cb = plt.colorbar(img)\n",
    "ax.set_xlim((-lim, lim))\n",
    "# ax.set_ylim((-lim, lim))\n",
    "# ax.set_title('Defocus: {0:.2f} microns'.format(defocusDistance[indx[1]]))\n",
    "\n",
    "# plt.tight_layout()\n",
    "plt.show()"
   ]
  },
  {
   "cell_type": "code",
   "execution_count": 60,
   "metadata": {},
   "outputs": [
    {
     "data": {
      "text/plain": [
       "array([-15. , -13.5, -12. , -10.5,  -9. ,  -7.5,  -6. ,  -4.5,  -3. ,\n",
       "        -1.5,   0. ,   1.5,   3. ,   4.5,   6. ,   7.5,   9. ,  10.5,\n",
       "        12. ,  13.5,  15. ])"
      ]
     },
     "execution_count": 60,
     "metadata": {},
     "output_type": "execute_result"
    }
   ],
   "source": [
    "defocusDistance"
   ]
  },
  {
   "cell_type": "code",
   "execution_count": 61,
   "metadata": {},
   "outputs": [],
   "source": [
    "def fftshift(input,axis=1):\n",
    "    split_size_right = tf.floordiv(tf.shape(input)[axis],2)\n",
    "    split_sizes = [tf.shape(input)[axis]-split_size_right, split_size_right]\n",
    "    pos, neg = tf.split(input,split_sizes,axis=axis)\n",
    "    input = tf.concat([neg,pos],axis=axis)\n",
    "    return input\n",
    "\n",
    "def ifftshift(input,axis=1):\n",
    "    split_size_left = tf.floordiv(tf.shape(input)[axis],2)\n",
    "    split_sizes = [split_size_left, tf.shape(input)[axis]-split_size_left]\n",
    "    pos, neg = tf.split(input,2,axis=axis)\n",
    "    input = tf.concat([neg,pos],axis=axis)\n",
    "    return input\n",
    "\n",
    "def fftshift2d(input):\n",
    "    for axis in [1,2]:\n",
    "        ax = input.shape.ndims-axis\n",
    "        input = fftshift(input,axis=ax)\n",
    "    return input\n",
    "    \n",
    "def ifftshift2d(input):\n",
    "    for axis in [1,2]:\n",
    "        ax = input.shape.ndims-axis\n",
    "        input = ifftshift(input,axis=ax)\n",
    "    return input"
   ]
  },
  {
   "cell_type": "code",
   "execution_count": 62,
   "metadata": {},
   "outputs": [],
   "source": [
    "# # create pupil mask\n",
    "# mask = tf.constant(pupilMask,dtype=tf.complex64)\n",
    "\n",
    "# # initial pupil function has amplitude same as the mask, phase = 0\n",
    "# pupil = tf.Variable(normedPupil.astype(np.complex64)*df**2,dtype=tf.complex64)\n",
    "\n",
    "# # pupil function\n",
    "# pupil_mask = tf.multiply(mask,pupil)\n",
    "\n",
    "# # PSF is Fourier transform of pupil function\n",
    "# psf = fftshift2d(tf.fft2d(ifftshift2d(pupil_mask)))"
   ]
  },
  {
   "cell_type": "code",
   "execution_count": 63,
   "metadata": {},
   "outputs": [],
   "source": [
    "pij2 = tf.constant(np.pi*2j,dtype=tf.complex64)\n",
    "\n",
    "# create pupil amplitude\n",
    "pupil_amp = tf.constant(normedPupil.astype(np.complex64)*df**2,dtype=tf.complex64)\n",
    "\n",
    "# initial pupil phase function has phase = 0\n",
    "pupil_phase_angle = tf.zeros_like(pupil_amp,dtype=tf.complex64,optimize=True)\n",
    "pupil_phase = tf.exp(tf.scalar_mul(pij2,pupil_phase_angle))\n",
    "\n",
    "# defocus function\n",
    "defocus = tf.constant(defocusKernel,dtype=tf.complex64)\n",
    "\n",
    "# pupil function\n",
    "pupil = tf.multiply(pupil_amp,pupil_phase)\n",
    "\n",
    "# pupil function * defocus\n",
    "pupil_defocus = tf.multiply(pupil,defocus)\n",
    "\n",
    "# PSF is Fourier transform of pupil function\n",
    "psf_defocus = fftshift2d(tf.fft2d(ifftshift2d(pupil_defocus)))\n",
    "psf = fftshift2d(tf.fft2d(ifftshift2d(pupil)))\n",
    "\n",
    "psf_defocus = tf.square(tf.abs(psf_defocus))\n",
    "psf = tf.square(tf.abs(psf))"
   ]
  },
  {
   "cell_type": "code",
   "execution_count": 64,
   "metadata": {},
   "outputs": [],
   "source": [
    "# initialize trainable_variables\n",
    "sess.run(tf.global_variables_initializer())\n",
    "# calculate pupil function and PSF\n",
    "psf_np, psf_defocus_np, pupil_defocus_np = sess.run([psf, psf_defocus, pupil_defocus])"
   ]
  },
  {
   "cell_type": "code",
   "execution_count": null,
   "metadata": {},
   "outputs": [],
   "source": []
  },
  {
   "cell_type": "code",
   "execution_count": 83,
   "metadata": {},
   "outputs": [
    {
     "name": "stdout",
     "output_type": "stream",
     "text": [
      "0.33286230376726617\n"
     ]
    },
    {
     "data": {
      "image/png": "[encoded data removed]",
      "text/plain": [
       "<Figure size 1440x720 with 2 Axes>"
      ]
     },
     "metadata": {},
     "output_type": "display_data"
    }
   ],
   "source": [
    "# lim=0.7\n",
    "\n",
    "# image = psf_np / Z0\n",
    "# plt.figure(figsize=(10,10))\n",
    "# img = plt.imshow(image, interpolation='nearest', extent = [x[0], x[-1], x[0], x[-1]])\n",
    "# cb = plt.colorbar(img)\n",
    "# plt.gca().set_xlim((-lim, lim))\n",
    "# plt.gca().set_ylim((-lim, lim))\n",
    "# plt.title('Tensorflow PSF')\n",
    "\n",
    "# plt.xlabel('x, $\\mu m$')\n",
    "# plt.ylabel('y, $\\mu m$')\n",
    "# cb.set_label('Irradiance, $W / \\mu m^2$')\n",
    "# plt.grid(False)\n",
    "# plt.show()\n",
    "\n",
    "\n",
    "fig, (ax0, ax1) = plt.subplots(nrows = 1, ncols = 2, figsize=(20,10))\n",
    "\n",
    "# Find the maximum in the in-focus image for displaying PSF's on the correct intensity scale\n",
    "maxIrradiance = np.max(psf_defocus_np)/Z0\n",
    "# maxIrradiance = np.max(defocusPSF[10,:,:])/Z0\n",
    "print(maxIrradiance)\n",
    "\n",
    "lim=1.5\n",
    "\n",
    "ax=ax0\n",
    "# image = psf_defocus_np[indx[0], :, :] / Z0\n",
    "image = np.sum(psf_defocus_np / Z0, axis=0)\n",
    "img = ax.imshow(image, interpolation='nearest', extent = [x[0], x[-1], x[0], x[-1]])#, vmin =0, vmax = maxIrradiance)\n",
    "# cb = plt.colorbar(img)\n",
    "ax.set_xlim((-lim, lim))\n",
    "ax.set_ylim((-lim, lim))\n",
    "# ax.set_title('Defocus: {0:.2f} microns'.format(defocusDistance[indx[0]]))\n",
    "\n",
    "ax=ax1\n",
    "# image = psf_defocus_np[indx[1], :, :] / Z0\n",
    "image = np.sum(psf_defocus_np / Z0, axis=2)\n",
    "img = ax.imshow(image, interpolation='nearest', extent = [x[0], x[-1], defocusDistance[0], defocusDistance[-1]])#, vmin =0, vmax = maxIrradiance)\n",
    "# cb = plt.colorbar(img)\n",
    "ax.set_xlim((-lim, lim))\n",
    "# ax.set_ylim((-lim, lim))\n",
    "# ax.set_title('Defocus: {0:.2f} microns'.format(defocusDistance[indx[1]]))\n",
    "\n",
    "# plt.tight_layout()\n",
    "plt.show()"
   ]
  },
  {
   "cell_type": "code",
   "execution_count": 78,
   "metadata": {},
   "outputs": [
    {
     "data": {
      "text/plain": [
       "0.008835566083152124"
      ]
     },
     "execution_count": 78,
     "metadata": {},
     "output_type": "execute_result"
    }
   ],
   "source": [
    "simps(simps(np.abs(pupilMask)**2, dx = df), dx = df) / Z0"
   ]
  },
  {
   "cell_type": "code",
   "execution_count": 79,
   "metadata": {},
   "outputs": [
    {
     "data": {
      "text/plain": [
       "3.3286228105059"
      ]
     },
     "execution_count": 79,
     "metadata": {},
     "output_type": "execute_result"
    }
   ],
   "source": [
    "np.sum(np.sum(np.abs(pupilMask)**2))*df*df"
   ]
  },
  {
   "cell_type": "code",
   "execution_count": null,
   "metadata": {},
   "outputs": [],
   "source": []
  },
  {
   "cell_type": "code",
   "execution_count": null,
   "metadata": {},
   "outputs": [],
   "source": []
  }
 ],
 "metadata": {
  "kernelspec": {
   "display_name": "Python tf (Singularity)",
   "language": "python",
   "name": "python3-tf"
  },
  "language_info": {
   "codemirror_mode": {
    "name": "ipython",
    "version": 3
   },
   "file_extension": ".py",
   "mimetype": "text/x-python",
   "name": "python",
   "nbconvert_exporter": "python",
   "pygments_lexer": "ipython3",
   "version": "3.5.2"
  }
 },
 "nbformat": 4,
 "nbformat_minor": 2
}
